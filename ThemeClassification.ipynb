{
 "cells": [
  {
   "cell_type": "code",
   "execution_count": 6,
   "id": "7978d271-ea1e-4e45-b923-ab629718bc17",
   "metadata": {},
   "outputs": [],
   "source": [
    "import io\n",
    "import base64\n",
    "\n",
    "from datasets import load_dataset\n",
    "\n",
    "import torch\n",
    "import torch.nn as nn\n",
    "import torch.optim as optim\n",
    "from torch.optim.lr_scheduler import StepLR\n",
    "from torch.utils.data import DataLoader, Dataset\n",
    "\n",
    "import torchvision.transforms as transforms\n",
    "import torchvision.models as models\n",
    "\n",
    "\n",
    "from sklearn.metrics import accuracy_score\n",
    "from sklearn.model_selection import train_test_split\n",
    "from sklearn.metrics import confusion_matrix\n",
    "\n",
    "from PIL import Image\n",
    "\n",
    "from matplotlib import pyplot as plt\n",
    "\n",
    "import pandas as pd\n",
    "\n",
    "from imblearn.over_sampling import RandomOverSampler\n",
    "\n",
    "import seaborn as sns\n",
    "import pickle"
   ]
  },
  {
   "cell_type": "code",
   "execution_count": 7,
   "id": "ffd8c071-9d9d-490c-be42-ee4b3e62be7f",
   "metadata": {},
   "outputs": [],
   "source": [
    "device = torch.device('cuda' if torch.cuda.is_available() else 'cpu')"
   ]
  },
  {
   "cell_type": "code",
   "execution_count": 9,
   "id": "d9e7e2d1-8224-4207-a829-9ff7c3a05e8a",
   "metadata": {},
   "outputs": [
    {
     "data": {
      "application/vnd.jupyter.widget-view+json": {
       "model_id": "1f2bdc08333c41b69dcf57031614dd09",
       "version_major": 2,
       "version_minor": 0
      },
      "text/plain": [
       "Resolving data files:   0%|          | 0/72 [00:00<?, ?it/s]"
      ]
     },
     "metadata": {},
     "output_type": "display_data"
    },
    {
     "data": {
      "application/vnd.jupyter.widget-view+json": {
       "model_id": "63c689050949419dbd19fe9a98a0eb59",
       "version_major": 2,
       "version_minor": 0
      },
      "text/plain": [
       "Loading dataset shards:   0%|          | 0/45 [00:00<?, ?it/s]"
      ]
     },
     "metadata": {},
     "output_type": "display_data"
    }
   ],
   "source": [
    "# Učitavanje WikiArt dataset-a\n",
    "dataset = load_dataset('huggan/wikiart')"
   ]
  },
  {
   "cell_type": "code",
   "execution_count": 10,
   "id": "347dca87-8d65-41b1-80a1-81c6e27b214b",
   "metadata": {},
   "outputs": [],
   "source": [
    "#Izdvajamo manji deo skupa\n",
    "train_subset = dataset['train'].select(range(int(0.003 * len(dataset['train']))))"
   ]
  },
  {
   "cell_type": "code",
   "execution_count": 11,
   "id": "8154cb13-7ca6-4f5c-9f72-32e5980c5bb4",
   "metadata": {},
   "outputs": [],
   "source": [
    "#Konvertujemo u DataFrame\n",
    "train_subset_df = train_subset.to_pandas()"
   ]
  },
  {
   "cell_type": "code",
   "execution_count": 12,
   "id": "e1cab6fc-1f35-4d9e-9f62-a8832f2fca7f",
   "metadata": {},
   "outputs": [],
   "source": [
    "X = train_subset_df.drop(columns='genre')  # Karakteristike\n",
    "y = train_subset_df['genre']  # Odredjujemo ciljnu promenljivu"
   ]
  },
  {
   "cell_type": "code",
   "execution_count": 13,
   "id": "8ddebcb9-409b-46c9-807d-20f4e4a00995",
   "metadata": {},
   "outputs": [
    {
     "name": "stdout",
     "output_type": "stream",
     "text": [
      "Osnovne informacije o dataset-u:\n",
      "<class 'pandas.core.frame.DataFrame'>\n",
      "RangeIndex: 244 entries, 0 to 243\n",
      "Data columns (total 4 columns):\n",
      " #   Column  Non-Null Count  Dtype \n",
      "---  ------  --------------  ----- \n",
      " 0   image   244 non-null    object\n",
      " 1   artist  244 non-null    int64 \n",
      " 2   genre   244 non-null    int64 \n",
      " 3   style   244 non-null    int64 \n",
      "dtypes: int64(3), object(1)\n",
      "memory usage: 7.8+ KB\n",
      "None\n",
      "\n",
      "Prvih nekoliko redova dataset-a:\n",
      "                                               image  artist  genre  style\n",
      "0  {'bytes': b'\\xff\\xd8\\xff\\xe0\\x00\\x10JFIF\\x00\\x...      22      4     21\n",
      "1  {'bytes': b'\\xff\\xd8\\xff\\xe0\\x00\\x10JFIF\\x00\\x...      20      7      4\n",
      "2  {'bytes': b'\\xff\\xd8\\xff\\xe0\\x00\\x10JFIF\\x00\\x...      16      6     20\n",
      "3  {'bytes': b'\\xff\\xd8\\xff\\xe0\\x00\\x10JFIF\\x00\\x...      17      2     12\n",
      "4  {'bytes': b'\\xff\\xd8\\xff\\xe0\\x00\\x10JFIF\\x00\\x...       9     10     23\n",
      "\n",
      "Broj primera po klasi (žanr):\n",
      "genre\n",
      "4     57\n",
      "2     37\n",
      "10    34\n",
      "6     28\n",
      "8     26\n",
      "1     18\n",
      "3     14\n",
      "7     11\n",
      "5     10\n",
      "9      9\n",
      "Name: count, dtype: int64\n"
     ]
    }
   ],
   "source": [
    "# Ispis osnovnih informacija o dataset-u\n",
    "print(\"Osnovne informacije o dataset-u:\")\n",
    "print(train_subset_df.info())\n",
    "print(\"\\nPrvih nekoliko redova dataset-a:\")\n",
    "print(train_subset_df.head())\n",
    "\n",
    "# Ispis statistika za broj primera po klasi (po 'genre')\n",
    "print(\"\\nBroj primera po klasi (žanr):\")\n",
    "print(train_subset_df['genre'].value_counts())"
   ]
  },
  {
   "cell_type": "code",
   "execution_count": 14,
   "id": "56576c09-ccb4-449c-b158-6aa4b11efb25",
   "metadata": {},
   "outputs": [
    {
     "data": {
      "image/png": "[encoded data removed]",
      "text/plain": [
       "<Figure size 1000x600 with 1 Axes>"
      ]
     },
     "metadata": {},
     "output_type": "display_data"
    }
   ],
   "source": [
    "# Plotovanje raspodele klasa\n",
    "plt.figure(figsize=(10, 6))\n",
    "sns.countplot(y='genre', data=train_subset_df, order=train_subset_df['genre'].value_counts().index)\n",
    "plt.title('Raspodela žanrova u dataset-u')\n",
    "plt.xlabel('Broj primera')\n",
    "plt.ylabel('Žanr')\n",
    "plt.show()"
   ]
  },
  {
   "cell_type": "code",
   "execution_count": 15,
   "id": "a04fa583-e5ee-4df6-b6ca-c1518dffdb6d",
   "metadata": {},
   "outputs": [],
   "source": [
    "#Radimo oversampling jer su nam podaci nejednako rasporedjeni po klasama\n",
    "class_counts = y.value_counts()\n",
    "max_count = class_counts.max()\n",
    "ratio=1/2\n",
    "# Definisanje sampling_strategy kao rečnika koji održava minimalni broj originalnih uzoraka\n",
    "sampling_strategy = {label: max(int(max_count * ratio), original_count) for label, original_count in class_counts.items()}\n",
    "\n",
    "# Upotreba RandomOverSampler-a\n",
    "ros = RandomOverSampler(random_state=0, sampling_strategy=sampling_strategy)\n",
    "X_train_resampled, y_train_resampled = ros.fit_resample(X, y)\n",
    "\n",
    "# Podela podataka na train i test setove\n",
    "X_train, X_test, y_train, y_test = train_test_split(X_train_resampled, y_train_resampled, test_size=0.2, random_state=42, stratify=y_train_resampled)\n",
    "X_test, X_valid, y_test, y_valid = train_test_split(X_test, y_test, test_size=0.5, random_state=42)\n"
   ]
  },
  {
   "cell_type": "code",
   "execution_count": 16,
   "id": "f4b563a9-93d1-466b-9db7-bd15159e4def",
   "metadata": {},
   "outputs": [
    {
     "name": "stderr",
     "output_type": "stream",
     "text": [
      "/tmp/ipykernel_62518/1172082216.py:6: FutureWarning: \n",
      "\n",
      "Passing `palette` without assigning `hue` is deprecated and will be removed in v0.14.0. Assign the `x` variable to `hue` and set `legend=False` for the same effect.\n",
      "\n",
      "  sns.barplot(x=resampled_class_counts.index, y=resampled_class_counts.values, palette='viridis')\n"
     ]
    },
    {
     "data": {
      "image/png": "[encoded data removed]",
      "text/plain": [
       "<Figure size 1000x600 with 1 Axes>"
      ]
     },
     "metadata": {},
     "output_type": "display_data"
    }
   ],
   "source": [
    "# Brojanje uzoraka po klasama nakon preuzorkovanja\n",
    "resampled_class_counts = pd.Series(y_train_resampled).value_counts()\n",
    "\n",
    "# Plotovanje broja uzoraka po klasama nakon preuzorkovanja\n",
    "plt.figure(figsize=(10, 6))\n",
    "sns.barplot(x=resampled_class_counts.index, y=resampled_class_counts.values, palette='viridis')\n",
    "plt.title('Broj uzoraka po klasama nakon preuzorkovanja')\n",
    "plt.xlabel('Klasa')\n",
    "plt.ylabel('Broj uzoraka')\n",
    "plt.show()\n"
   ]
  },
  {
   "cell_type": "code",
   "execution_count": 17,
   "id": "85304d8d-6aa4-4127-b842-dd186917d972",
   "metadata": {},
   "outputs": [],
   "source": [
    "class WikiArtDataset(Dataset):\n",
    "    def __init__(self, features, labels, transform=None, class_to_idx=None):\n",
    "        self.features = features\n",
    "        self.labels = labels\n",
    "        self.transform = transform\n",
    "        self.class_to_idx = class_to_idx\n",
    "\n",
    "    def __len__(self):\n",
    "        return len(self.labels)\n",
    "\n",
    "    def __getitem__(self, idx):\n",
    "        image_data = self.features.iloc[idx]['image']\n",
    "        image_bytes = image_data['bytes']\n",
    "        image = Image.open(io.BytesIO(image_bytes))\n",
    "\n",
    "        label = self.labels.iloc[idx]\n",
    "\n",
    "        # Mapiranje oznaka (labels) koristeći class_to_idx\n",
    "        if self.class_to_idx is not None:\n",
    "            label = self.class_to_idx[label]\n",
    "\n",
    "        if self.transform:\n",
    "            image = self.transform(image)\n",
    "\n",
    "        return image, label"
   ]
  },
  {
   "cell_type": "code",
   "execution_count": 18,
   "id": "85ef11a1-2dc7-4d66-bba2-469112c4cf0d",
   "metadata": {},
   "outputs": [],
   "source": [
    "# Definišite transformacije\n",
    "transform = transforms.Compose([\n",
    "    transforms.Resize((224, 224)),\n",
    "    transforms.RandomHorizontalFlip(),\n",
    "    transforms.RandomRotation(10),\n",
    "    transforms.ColorJitter(brightness=0.2, contrast=0.2, saturation=0.2, hue=0.2),\n",
    "    transforms.ToTensor(),\n",
    "    transforms.Normalize(mean=[0.485, 0.456, 0.406], std=[0.229, 0.224, 0.225]),\n",
    "])\n"
   ]
  },
  {
   "cell_type": "code",
   "execution_count": 19,
   "id": "0f847be4-12c5-4734-a6c1-ed669f138576",
   "metadata": {},
   "outputs": [],
   "source": [
    "# Dobijanje broja klasa\n",
    "classes = y_train.unique()\n",
    "num_classes = len(classes)\n",
    "class_to_idx = {cls: idx for idx, cls in enumerate(classes)}"
   ]
  },
  {
   "cell_type": "code",
   "execution_count": 20,
   "id": "d18e9c25-b507-4120-acd8-07ca1f6ad565",
   "metadata": {},
   "outputs": [],
   "source": [
    "train_dataset = WikiArtDataset(X_train, y_train, transform=transform, class_to_idx=class_to_idx)\n",
    "valid_dataset = WikiArtDataset(X_valid, y_valid, transform=transform, class_to_idx=class_to_idx)\n",
    "test_dataset = WikiArtDataset(X_test, y_test, transform=transform, class_to_idx=class_to_idx)\n"
   ]
  },
  {
   "cell_type": "code",
   "execution_count": 21,
   "id": "a2cee75f-ca72-4361-ac04-928c5687e8c5",
   "metadata": {},
   "outputs": [],
   "source": [
    "# Funkcija za konverziju Dataset objekta u DataLoader\n",
    "def get_dataloaders(train_dataset, valid_dataset, test_dataset, batch_size=16):\n",
    "    train_loader = DataLoader(dataset=train_dataset, batch_size=batch_size, shuffle=True, num_workers=4)\n",
    "    valid_loader = DataLoader(dataset=valid_dataset, batch_size=batch_size, shuffle=False, num_workers=4)\n",
    "    test_loader = DataLoader(dataset=test_dataset, batch_size=batch_size, shuffle=False, num_workers=4)\n",
    "\n",
    "    return train_loader, valid_loader, test_loader\n"
   ]
  },
  {
   "cell_type": "code",
   "execution_count": 22,
   "id": "1e86d2d6-01df-45d7-b70c-1ab47c322629",
   "metadata": {},
   "outputs": [],
   "source": [
    "train_loader, valid_loader, test_loader = get_dataloaders(train_dataset, valid_dataset, test_dataset)"
   ]
  },
  {
   "cell_type": "code",
   "execution_count": 23,
   "id": "63ceb7f7-e1bd-4e1b-83f3-cfb5a1005593",
   "metadata": {},
   "outputs": [],
   "source": [
    "#Prvi model koji cemo koristiti je Vgg16\n",
    "def create_vgg16_model(num_classes):\n",
    "    model = models.vgg16(pretrained=True)\n",
    "    model.classifier[6] = nn.Linear(in_features=4096, out_features=num_classes)\n",
    "    return model\n"
   ]
  },
  {
   "cell_type": "code",
   "execution_count": 24,
   "id": "17762c42-80dc-4eb4-b587-1ef732315699",
   "metadata": {},
   "outputs": [
    {
     "name": "stderr",
     "output_type": "stream",
     "text": [
      "/home/aleksandra/.local/lib/python3.8/site-packages/torchvision/models/_utils.py:208: UserWarning: The parameter 'pretrained' is deprecated since 0.13 and may be removed in the future, please use 'weights' instead.\n",
      "  warnings.warn(\n",
      "/home/aleksandra/.local/lib/python3.8/site-packages/torchvision/models/_utils.py:223: UserWarning: Arguments other than a weight enum or `None` for 'weights' are deprecated since 0.13 and may be removed in the future. The current behavior is equivalent to passing `weights=VGG16_Weights.IMAGENET1K_V1`. You can also use `weights=VGG16_Weights.DEFAULT` to get the most up-to-date weights.\n",
      "  warnings.warn(msg)\n"
     ]
    }
   ],
   "source": [
    "vgg16_model = create_vgg16_model(num_classes).to(device)"
   ]
  },
  {
   "cell_type": "code",
   "execution_count": 27,
   "id": "890682f8-d3c9-4120-95d9-a7c1c041f70e",
   "metadata": {},
   "outputs": [],
   "source": [
    "# Drugi model AlexNet koji koristimo\n",
    "def create_alexnet_model(num_classes):\n",
    "    model = models.alexnet(pretrained=True)\n",
    "    model.classifier[6] = nn.Linear(in_features=4096, out_features=num_classes)\n",
    "    return model\n"
   ]
  },
  {
   "cell_type": "code",
   "execution_count": 19,
   "id": "65b327e1-3ff2-4451-b3ca-edc9ca52086f",
   "metadata": {},
   "outputs": [],
   "source": [
    "def train_model(model, train_loader, valid_loader, num_epochs=15, learning_rate=0.0001):\n",
    "    model = model.to(device)\n",
    "\n",
    "    criterion = nn.CrossEntropyLoss()\n",
    "    optimizer = optim.Adam(model.parameters(), lr=learning_rate)\n",
    "    scheduler = StepLR(optimizer, step_size=5, gamma=0.1)  # Decays the learning rate by a factor of 0.1 every 5 epochs\n",
    "\n",
    "    best_accuracy = 0.0\n",
    "    train_losses = []\n",
    "    valid_accuracies = []\n",
    "\n",
    "    for epoch in range(num_epochs):\n",
    "        print(f\"Starting Epoch {epoch+1}/{num_epochs}\")\n",
    "        model.train()\n",
    "        running_loss = 0.0\n",
    "        for batch_idx, (images, labels) in enumerate(train_loader):\n",
    "            images, labels = images.to(device), labels.to(device)\n",
    "\n",
    "            optimizer.zero_grad()\n",
    "            outputs = model(images)\n",
    "            loss = criterion(outputs, labels)\n",
    "            loss.backward()\n",
    "            optimizer.step()\n",
    "\n",
    "            running_loss += loss.item() * images.size(0)\n",
    "\n",
    "        epoch_loss = running_loss / len(train_loader.dataset)\n",
    "        train_losses.append(epoch_loss)\n",
    "        print(f\"Epoch {epoch+1}/{num_epochs}, Loss: {epoch_loss:.4f}\")\n",
    "\n",
    "        # Evaluacija na validacionom skupu\n",
    "        model.eval()\n",
    "        valid_labels = []\n",
    "        valid_preds = []\n",
    "        with torch.no_grad():\n",
    "            for images, labels in valid_loader:\n",
    "                images, labels = images.to(device), labels.to(device)\n",
    "                outputs = model(images)\n",
    "                _, preds = torch.max(outputs, 1)\n",
    "                valid_labels.extend(labels.cpu().numpy())\n",
    "                valid_preds.extend(preds.cpu().numpy())\n",
    "\n",
    "        accuracy = accuracy_score(valid_labels, valid_preds)\n",
    "        valid_accuracies.append(accuracy)\n",
    "        print(f\"Validation Accuracy: {accuracy * 100:.2f}%\")\n",
    "\n",
    "        if accuracy > best_accuracy:\n",
    "            best_accuracy = accuracy\n",
    "            torch.save(model.state_dict(), 'best_model.pth')\n",
    "\n",
    "        scheduler.step()\n",
    "\n",
    "    return train_losses, valid_accuracies\n",
    "\n"
   ]
  },
  {
   "cell_type": "code",
   "execution_count": 20,
   "id": "dc1eced0-1306-4238-9b07-01c54b4d39dd",
   "metadata": {},
   "outputs": [],
   "source": [
    "def evaluate_model(model, test_loader):\n",
    "    model.eval()\n",
    "    test_labels = []\n",
    "    test_preds = []\n",
    "    \n",
    "    with torch.no_grad():\n",
    "        for images, labels in test_loader:\n",
    "            images = images.to(device)\n",
    "            labels = labels.to(device)\n",
    "            outputs = model(images)\n",
    "            _, preds = torch.max(outputs, 1)\n",
    "            test_labels.extend(labels.cpu().numpy())\n",
    "            test_preds.extend(preds.cpu().numpy())\n",
    "    \n",
    "    accuracy = accuracy_score(test_labels, test_preds)\n",
    "    print(f\"Test Accuracy: {accuracy * 100:.2f}%\")"
   ]
  },
  {
   "cell_type": "code",
   "execution_count": 21,
   "id": "4ab855e2-c9e8-4c3c-8102-8e92538345f4",
   "metadata": {},
   "outputs": [],
   "source": [
    "def plot_results(train_losses, valid_accuracies):\n",
    "    plt.figure(figsize=(12, 6))\n",
    "    \n",
    "    plt.subplot(1, 2, 1)\n",
    "    plt.plot(range(1, len(train_losses) + 1), train_losses, label='Training Loss')\n",
    "    plt.xlabel('Epochs')\n",
    "    plt.ylabel('Loss')\n",
    "    plt.title('Training Loss')\n",
    "    plt.legend()\n",
    "    \n",
    "    plt.subplot(1, 2, 2)\n",
    "    plt.plot(range(1, len(valid_accuracies) + 1), [acc * 100 for acc in valid_accuracies], label='Validation Accuracy')\n",
    "    plt.xlabel('Epochs')\n",
    "    plt.ylabel('Accuracy (%)')\n",
    "    plt.title('Validation Accuracy')\n",
    "    plt.legend()\n",
    "    \n",
    "    plt.show()"
   ]
  },
  {
   "cell_type": "code",
   "execution_count": null,
   "id": "ae9a4481-1ceb-41ef-a2d8-521b0a1eecad",
   "metadata": {},
   "outputs": [],
   "source": [
    "train_losses, valid_accuracies = train_model(vgg16_model, train_loader, valid_loader, num_epochs=15)\n",
    "plot_results(train_losses, valid_accuracies)\n",
    "evaluate_model(vgg16_model, test_loader)"
   ]
  },
  {
   "cell_type": "code",
   "execution_count": 6,
   "id": "642b95c6-9d8c-4c1f-8915-6ba9bc1ff676",
   "metadata": {},
   "outputs": [
    {
     "data": {
      "text/plain": [
       "'Gubitak (Loss): Vidimo da je gubitak kontinuirano opadao sa svakom epohom, što je odličan znak da model postepeno uči i poboljšava svoje performanse. \\nGubitak je značajno smanjen sa 2.2009 na 0.2085 tokom 15 epoha.\\n\\nTačnost Validacije (Validation Accuracy): Tačnost validacije je pokazala stabilan napredak,\\nraste od 27.27% u prvoj epohi do 91.67% u poslednjoj. \\nOvo sugeriše da model dobro generalizuje na neviđenim podacima i da su naučeni obrasci relevantni za problem.\\n\\nPočetne Epohe: Na početku, tačnost validacije je relativno niska, što je očekivano. \\nBrza poboljšanja u prvih nekoliko epoha ukazuju na to da model brzo uči osnovne karakteristike.\\n\\nSrednji Deo Treninga: U srednjem delu treninga, tačnost je stabilizovana na oko 69.70% i gubitak je nastavio da se smanjuje.\\nOvo može sugerisati da model postepeno pronalazi korisne obrasce, ali još uvek može biti korisno dodatno fino podešavanje.\\n\\nKasni Deo Treninga: Od epohe 12, tačnost validacije počinje da se povećava brže, dosegnuvši vrhunac od 91.67% u poslednjoj epohi. \\nOvo ukazuje na to da model počinje da veoma dobro generalizuje i da je postignuta visoka tačnost.\\n'"
      ]
     },
     "execution_count": 6,
     "metadata": {},
     "output_type": "execute_result"
    }
   ],
   "source": [
    "'''Gubitak (Loss): Vidimo da je gubitak kontinuirano opadao sa svakom epohom, što je odličan znak da model postepeno uči i poboljšava svoje performanse. \n",
    "Gubitak je značajno smanjen sa 2.2009 na 0.2085 tokom 15 epoha.\n",
    "\n",
    "Tačnost Validacije (Validation Accuracy): Tačnost validacije je pokazala stabilan napredak,\n",
    "raste od 27.27% u prvoj epohi do 91.67% u poslednjoj. \n",
    "Ovo sugeriše da model dobro generalizuje na neviđenim podacima i da su naučeni obrasci relevantni za problem.\n",
    "\n",
    "Početne Epohe: Na početku, tačnost validacije je relativno niska, što je očekivano. \n",
    "Brza poboljšanja u prvih nekoliko epoha ukazuju na to da model brzo uči osnovne karakteristike.\n",
    "\n",
    "Srednji Deo Treninga: U srednjem delu treninga, tačnost je stabilizovana na oko 69.70% i gubitak je nastavio da se smanjuje.\n",
    "Ovo može sugerisati da model postepeno pronalazi korisne obrasce, ali još uvek može biti korisno dodatno fino podešavanje.\n",
    "\n",
    "Kasni Deo Treninga: Od epohe 12, tačnost validacije počinje da se povećava brže, dosegnuvši vrhunac od 91.67% u poslednjoj epohi. \n",
    "Ovo ukazuje na to da model počinje da veoma dobro generalizuje i da je postignuta visoka tačnost.\n",
    "'''"
   ]
  },
  {
   "cell_type": "code",
   "execution_count": 25,
   "id": "5c3d4f09-bc32-4aa1-8fa7-e53518b169c5",
   "metadata": {
    "scrolled": true
   },
   "outputs": [
    {
     "data": {
      "image/png": "[encoded data removed]",
      "text/plain": [
       "<Figure size 1000x800 with 2 Axes>"
      ]
     },
     "metadata": {},
     "output_type": "display_data"
    }
   ],
   "source": [
    "def plot_confusion_matrix(model, dataloader, class_names):\n",
    "    \"\"\"\n",
    "    Plot confusion matrix for a given model and dataloader.\n",
    "    \n",
    "    Parameters:\n",
    "    - model: Trained PyTorch model\n",
    "    - dataloader: DataLoader object for the dataset you want to evaluate\n",
    "    - class_names: List of class names corresponding to the labels\n",
    "    \"\"\"\n",
    "    model.eval()  # Stavite model u eval mod\n",
    "    all_preds = []\n",
    "    all_labels = []\n",
    "    \n",
    "    with torch.no_grad():\n",
    "        for images, labels in dataloader:\n",
    "            images = images.to(device)\n",
    "            labels = labels.to(device)\n",
    "            outputs = model(images)\n",
    "            _, preds = torch.max(outputs, 1)\n",
    "            all_preds.extend(preds.cpu().numpy())\n",
    "            all_labels.extend(labels.cpu().numpy())\n",
    "    \n",
    "    # Kreiranje matrice konfuzije\n",
    "    cm = confusion_matrix(all_labels, all_preds)\n",
    "    \n",
    "    # Plotovanje matrice konfuzije\n",
    "    plt.figure(figsize=(10, 8))\n",
    "    sns.heatmap(cm, annot=True, fmt='d', cmap='Blues', xticklabels=class_names, yticklabels=class_names)\n",
    "    plt.xlabel('Predicted Label')\n",
    "    plt.ylabel('True Label')\n",
    "    plt.title('Confusion Matrix')\n",
    "    plt.show()\n",
    "\n",
    "# Primer korišćenja:\n",
    "# Pretpostavljamo da ste već trenirali model, i da imate DataLoader za test skup\n",
    "class_names = train_subset_df['genre'].unique().tolist()  # Pretpostavljamo da 'genre' sadrži imena klasa\n",
    "plot_confusion_matrix(vgg16_model, test_loader, class_names)"
   ]
  },
  {
   "cell_type": "code",
   "execution_count": null,
   "id": "01887915-8d55-40e4-9510-ef81fb251c41",
   "metadata": {},
   "outputs": [],
   "source": [
    "def plot_class_specific_matrices(model, dataloader, class_names):\n",
    "\n",
    "    model.eval()  # Set the model to evaluation mode\n",
    "    all_preds = []\n",
    "    all_labels = []\n",
    "    \n",
    "    with torch.no_grad():\n",
    "        for images, labels in dataloader:\n",
    "            images = images.to(device)\n",
    "            labels = labels.to(device)\n",
    "            outputs = model(images)\n",
    "            _, preds = torch.max(outputs, 1)\n",
    "            all_preds.extend(preds.cpu().numpy())\n",
    "            all_labels.extend(labels.cpu().numpy())\n",
    "    \n",
    "    # Kreiranje matrice konfuzije\n",
    "    cm = confusion_matrix(all_labels, all_preds)\n",
    "    \n",
    "    # Proverimo da li broj klasa odgovara dimenzijama matrice\n",
    "    num_classes = cm.shape[0]\n",
    "    if len(class_names) != num_classes:\n",
    "        print(f\"Warning: Number of class names ({len(class_names)}) does not match number of classes in the confusion matrix ({num_classes}).\")\n",
    "        class_names = class_names[:num_classes]\n",
    "\n",
    "    # Iteracija kroz sve klase da bismo prikazali pojedinačne matrice sa TP, FP, TN, FN vrednostima\n",
    "    for i in range(num_classes):\n",
    "        class_name = class_names[i]\n",
    "        TP = cm[i, i]\n",
    "        FP = cm[:, i].sum() - TP\n",
    "        FN = cm[i, :].sum() - TP\n",
    "        TN = cm.sum() - (TP + FP + FN)\n",
    "        \n",
    "        # Kreiranje DataFrame-a za trenutnu klasu\n",
    "        data = {'': ['True Positive', 'False Positive', 'True Negative', 'False Negative'],\n",
    "                'Values': [TP, FP, TN, FN]}\n",
    "        df = pd.DataFrame(data)\n",
    "\n",
    "        # Plotovanje matrice za trenutnu klasu\n",
    "        plt.figure(figsize=(5, 2))\n",
    "        sns.heatmap(df[['Values']].T, annot=True, fmt='d', cmap='Blues', cbar=False, xticklabels=df[''].values, yticklabels=[class_name])\n",
    "        plt.title(f'Class: {class_name}')\n",
    "        plt.show()\n",
    "\n",
    "# Primer korišćenja:\n",
    "class_names = train_subset_df['genre'].unique().tolist()  # Pretpostavljamo da 'genre' sadrži imena klasa\n",
    "plot_class_specific_matrices(vgg16_model, test_loader, class_names)\n"
   ]
  },
  {
   "cell_type": "code",
   "execution_count": 28,
   "id": "bef7a021-a685-407b-8eae-11708bd5cec7",
   "metadata": {},
   "outputs": [
    {
     "name": "stderr",
     "output_type": "stream",
     "text": [
      "/home/aleksandra/.local/lib/python3.8/site-packages/torchvision/models/_utils.py:208: UserWarning: The parameter 'pretrained' is deprecated since 0.13 and may be removed in the future, please use 'weights' instead.\n",
      "  warnings.warn(\n",
      "/home/aleksandra/.local/lib/python3.8/site-packages/torchvision/models/_utils.py:223: UserWarning: Arguments other than a weight enum or `None` for 'weights' are deprecated since 0.13 and may be removed in the future. The current behavior is equivalent to passing `weights=AlexNet_Weights.IMAGENET1K_V1`. You can also use `weights=AlexNet_Weights.DEFAULT` to get the most up-to-date weights.\n",
      "  warnings.warn(msg)\n"
     ]
    },
    {
     "ename": "NameError",
     "evalue": "name 'train_model' is not defined",
     "output_type": "error",
     "traceback": [
      "\u001b[0;31m---------------------------------------------------------------------------\u001b[0m",
      "\u001b[0;31mNameError\u001b[0m                                 Traceback (most recent call last)",
      "Cell \u001b[0;32mIn[28], line 2\u001b[0m\n\u001b[1;32m      1\u001b[0m alexModel\u001b[38;5;241m=\u001b[39mcreate_alexnet_model(num_classes)\u001b[38;5;241m.\u001b[39mto(device)\n\u001b[0;32m----> 2\u001b[0m train_losses1, valid_accuracies1 \u001b[38;5;241m=\u001b[39m \u001b[43mtrain_model\u001b[49m(alexModel, train_loader, valid_loader, num_epochs\u001b[38;5;241m=\u001b[39m\u001b[38;5;241m15\u001b[39m)\n\u001b[1;32m      3\u001b[0m plot_results(train_losses1, valid_accuracies1)\n\u001b[1;32m      4\u001b[0m evaluate_model(alexModel, test_loader)\n",
      "\u001b[0;31mNameError\u001b[0m: name 'train_model' is not defined"
     ]
    }
   ],
   "source": [
    "alexModel=create_alexnet_model(num_classes).to(device)\n",
    "train_losses1, valid_accuracies1 = train_model(alexModel, train_loader, valid_loader, num_epochs=15)\n",
    "plot_results(train_losses1, valid_accuracies1)\n",
    "evaluate_model(alexModel, test_loader)"
   ]
  },
  {
   "cell_type": "code",
   "execution_count": null,
   "id": "53e48954-f609-429a-bede-f0c0ba39ed94",
   "metadata": {},
   "outputs": [],
   "source": [
    "plot_confusion_matrix(alexModel, test_loader, class_names)"
   ]
  },
  {
   "cell_type": "code",
   "execution_count": null,
   "id": "d87066bb-5e54-45be-98a9-40f842c66e4c",
   "metadata": {},
   "outputs": [],
   "source": [
    "plot_class_specific_matrices(alexModel, test_loader, class_names)\n"
   ]
  },
  {
   "cell_type": "code",
   "execution_count": 31,
   "id": "29154f8b-6a54-443c-bf35-5ba657c62bdb",
   "metadata": {},
   "outputs": [],
   "source": [
    "#Treci model koji koristimo je customCNN\n",
    "class CustomCNN(nn.Module):\n",
    "    def __init__(self, num_classes=num_classes+1):\n",
    "        super(CustomCNN, self).__init__()\n",
    "        \n",
    "        # Prvi konvolucioni sloj\n",
    "        self.layer1 = nn.Sequential(\n",
    "            nn.Conv2d(in_channels=3, out_channels=48, kernel_size=3, padding=1),\n",
    "            nn.BatchNorm2d(48),\n",
    "            nn.MaxPool2d(kernel_size=2, stride=2)\n",
    "        )\n",
    "        \n",
    "        # Drugi konvolucioni sloj\n",
    "        self.layer2 = nn.Sequential(\n",
    "            nn.Conv2d(in_channels=48, out_channels=96, kernel_size=3, padding=1),\n",
    "            nn.BatchNorm2d(96),\n",
    "            nn.MaxPool2d(kernel_size=2, stride=2)\n",
    "        )\n",
    "        \n",
    "        # Sekvenca konvolucionih slojeva\n",
    "        self.convs = nn.Sequential(self.layer1, self.layer2)\n",
    "        \n",
    "        # Izračunavanje ulazne veličine za prvi potpuno povezani sloj\n",
    "        self._to_linear = self.get_conv_output_size()\n",
    "        \n",
    "        # Potpuno povezani slojevi\n",
    "        self.fc1 = nn.Linear(301056, 1024)  # Prilagođeno na osnovu izlaznog tenzora\n",
    "        self.fc2 = nn.Linear(1024, 1024)\n",
    "        self.fc3 = nn.Linear(1024, num_classes)\n",
    "        \n",
    "        # Dropout sloj za regularizaciju\n",
    "        self.dropout = nn.Dropout(p=0.5)\n",
    "\n",
    "    def get_conv_output_size(self):\n",
    "        # Koristimo dummy input da izračunamo izlaznu veličinu iz konvolucionih slojeva\n",
    "        x = torch.zeros(1, 3, 224, 224)  # Pretpostavlja se ulazna slika dimenzija 224x224x3\n",
    "        x = self.convs(x)\n",
    "        print(\"Conv Output Size:\", x.shape)  # Proverava izlaznu veličinu\n",
    "        return int(x.view(x.size(0), -1).size(1))\n",
    "\n",
    "    def forward(self, x):\n",
    "        # Prolazak kroz konvolucione slojeve\n",
    "        x = self.convs(x)\n",
    "        x = x.view(x.size(0), -1)  # Flattenovanje\n",
    "        \n",
    "        # Prolazak kroz potpuno povezane slojeve\n",
    "        x = torch.relu(self.fc1(x))\n",
    "        x = self.dropout(x)\n",
    "        x = torch.relu(self.fc2(x))\n",
    "        x = self.fc3(x)\n",
    "        return x\n"
   ]
  },
  {
   "cell_type": "code",
   "execution_count": 32,
   "id": "3e2ba88b-4e6b-4505-9b0e-272a1aec4c39",
   "metadata": {},
   "outputs": [
    {
     "name": "stdout",
     "output_type": "stream",
     "text": [
      "Conv Output Size: torch.Size([1, 96, 56, 56])\n"
     ]
    },
    {
     "ename": "NameError",
     "evalue": "name 'train_model' is not defined",
     "output_type": "error",
     "traceback": [
      "\u001b[0;31m---------------------------------------------------------------------------\u001b[0m",
      "\u001b[0;31mNameError\u001b[0m                                 Traceback (most recent call last)",
      "Cell \u001b[0;32mIn[32], line 6\u001b[0m\n\u001b[1;32m      4\u001b[0m \u001b[38;5;66;03m# Treniranje modela\u001b[39;00m\n\u001b[1;32m      5\u001b[0m num_epochs \u001b[38;5;241m=\u001b[39m \u001b[38;5;241m15\u001b[39m\n\u001b[0;32m----> 6\u001b[0m train_losses, valid_accuracies \u001b[38;5;241m=\u001b[39m \u001b[43mtrain_model\u001b[49m(model, train_loader, valid_loader, num_epochs\u001b[38;5;241m=\u001b[39mnum_epochs)\n",
      "\u001b[0;31mNameError\u001b[0m: name 'train_model' is not defined"
     ]
    }
   ],
   "source": [
    "# Inicijalizacija modela i premeštanje na uređaj\n",
    "model = CustomCNN(num_classes=num_classes+1).to(device)\n",
    "\n",
    "# Treniranje modela\n",
    "num_epochs = 15\n",
    "train_losses, valid_accuracies = train_model(model, train_loader, valid_loader, num_epochs=num_epochs)\n"
   ]
  },
  {
   "cell_type": "code",
   "execution_count": null,
   "id": "93a381fe-58d6-4e13-adcd-9a697766030b",
   "metadata": {},
   "outputs": [],
   "source": [
    "class_names = ['Class 1', 'Class 2', 'Class 3', 'Class 4', 'Class 5', 'Class 6', 'Class 7', 'Class 8', 'Class 9', 'Class 10']\n",
    "\n",
    "# Plotovanje matrice konfuzije\n",
    "plot_confusion_matrix(model, test_loader, class_names)"
   ]
  },
  {
   "cell_type": "code",
   "execution_count": 3,
   "id": "0ace09fa-26a2-48f6-a1e4-7dd0c2fee65f",
   "metadata": {},
   "outputs": [
    {
     "data": {
      "text/plain": [
       "'Na početku treniranja, model pokazuje visoke vrednosti gubitka i nisku tačnost validacije.\\nOvo je očekivano jer model još nije naučio značajne obrasce iz podataka.\\nU prvih nekoliko epoha, gubitak se postepeno smanjuje, ali tačnost validacije ima oscilacije.\\nTo može ukazivati na to da model još uvek nije stabilizovao svoje učenje ili da su podaci možda složeni za trenutnu arhitekturu modela.\\n\\nOd epohe 6 do 8, vidimo značajan napredak u tačnosti validacije, koja raste sa 42.42% na 48.48%. \\nOvo je dobar znak da model počinje da uči korisne obrasce.\\nU narednim epohama, tačnost se ponovo smanjuje, ali još uvek ostaje između 39.39% i 48.48%.\\nTo može ukazivati na problem sa prekomernim učenjem ili možda potrebu za dodatnim podešavanjem hiperparametara.\\n\\nNa kraju epoha, gubitak se stabilizuje oko 1.90, dok tačnost varira između 39.39% i 48.48%. \\nOva fluktuacija u tačnosti može ukazivati na to da model nije u potpunosti konvergirao ili da su potrebne dodatne \\nepohe za stabilizaciju performansi.\\n'"
      ]
     },
     "execution_count": 3,
     "metadata": {},
     "output_type": "execute_result"
    }
   ],
   "source": [
    "'''Na početku treniranja, model pokazuje visoke vrednosti gubitka i nisku tačnost validacije.\n",
    "Ovo je očekivano jer model još nije naučio značajne obrasce iz podataka.\n",
    "U prvih nekoliko epoha, gubitak se postepeno smanjuje, ali tačnost validacije ima oscilacije.\n",
    "To može ukazivati na to da model još uvek nije stabilizovao svoje učenje ili da su podaci možda složeni za trenutnu arhitekturu modela.\n",
    "\n",
    "Od epohe 6 do 8, vidimo značajan napredak u tačnosti validacije, koja raste sa 42.42% na 48.48%. \n",
    "Ovo je dobar znak da model počinje da uči korisne obrasce.\n",
    "U narednim epohama, tačnost se ponovo smanjuje, ali još uvek ostaje između 39.39% i 48.48%.\n",
    "To može ukazivati na problem sa prekomernim učenjem ili možda potrebu za dodatnim podešavanjem hiperparametara.\n",
    "\n",
    "Na kraju epoha, gubitak se stabilizuje oko 1.90, dok tačnost varira između 39.39% i 48.48%. \n",
    "Ova fluktuacija u tačnosti može ukazivati na to da model nije u potpunosti konvergirao ili da su potrebne dodatne \n",
    "epohe za stabilizaciju performansi.\n",
    "'''"
   ]
  },
  {
   "cell_type": "code",
   "execution_count": 33,
   "id": "10224574-ae25-4223-95f1-a4de5e80b1c2",
   "metadata": {},
   "outputs": [],
   "source": [
    "\"Cuvanje modela\"\n",
    "\n",
    "model_filename = 'models/vgg16_model.model'\n",
    "\n",
    "with open(model_filename, 'wb') as pickle_file:\n",
    "    pickle.dump(vgg16_model, pickle_file)\n",
    "\n",
    "model_filename = 'models/alexModel.model'\n",
    "\n",
    "with open(model_filename, 'wb') as pickle_file:\n",
    "    pickle.dump(alexModel, pickle_file)\n",
    "\n",
    "model_filename = 'models/model.model'\n",
    "\n",
    "with open(model_filename, 'wb') as pickle_file:\n",
    "    pickle.dump(model, pickle_file)"
   ]
  },
  {
   "cell_type": "code",
   "execution_count": null,
   "id": "0a7685e7-7449-4c2e-ad0a-6ac7e7aac6b5",
   "metadata": {},
   "outputs": [],
   "source": []
  }
 ],
 "metadata": {
  "kernelspec": {
   "display_name": "Python 3 (ipykernel)",
   "language": "python",
   "name": "python3"
  },
  "language_info": {
   "codemirror_mode": {
    "name": "ipython",
    "version": 3
   },
   "file_extension": ".py",
   "mimetype": "text/x-python",
   "name": "python",
   "nbconvert_exporter": "python",
   "pygments_lexer": "ipython3",
   "version": "3.8.10"
  }
 },
 "nbformat": 4,
 "nbformat_minor": 5
}
